{
 "cells": [
  {
   "cell_type": "code",
   "execution_count": 71,
   "metadata": {
    "collapsed": true,
    "pycharm": {
     "name": "#%%\n"
    }
   },
   "outputs": [
    {
     "data": {
      "text/plain": "  姓名                         时间         年月日     年  月   日  小时  分钟   秒\n0  A 2022-04-24 14:18:34.117910  2022-04-24  2022  4  24  14  18  34\n1  B 2022-04-24 14:18:34.117910  2022-04-24  2022  4  24  14  18  34\n2  C 2022-04-24 14:18:34.117910  2022-04-24  2022  4  24  14  18  34",
      "text/html": "<div>\n<style scoped>\n    .dataframe tbody tr th:only-of-type {\n        vertical-align: middle;\n    }\n\n    .dataframe tbody tr th {\n        vertical-align: top;\n    }\n\n    .dataframe thead th {\n        text-align: right;\n    }\n</style>\n<table border=\"1\" class=\"dataframe\">\n  <thead>\n    <tr style=\"text-align: right;\">\n      <th></th>\n      <th>姓名</th>\n      <th>时间</th>\n      <th>年月日</th>\n      <th>年</th>\n      <th>月</th>\n      <th>日</th>\n      <th>小时</th>\n      <th>分钟</th>\n      <th>秒</th>\n    </tr>\n  </thead>\n  <tbody>\n    <tr>\n      <th>0</th>\n      <td>A</td>\n      <td>2022-04-24 14:18:34.117910</td>\n      <td>2022-04-24</td>\n      <td>2022</td>\n      <td>4</td>\n      <td>24</td>\n      <td>14</td>\n      <td>18</td>\n      <td>34</td>\n    </tr>\n    <tr>\n      <th>1</th>\n      <td>B</td>\n      <td>2022-04-24 14:18:34.117910</td>\n      <td>2022-04-24</td>\n      <td>2022</td>\n      <td>4</td>\n      <td>24</td>\n      <td>14</td>\n      <td>18</td>\n      <td>34</td>\n    </tr>\n    <tr>\n      <th>2</th>\n      <td>C</td>\n      <td>2022-04-24 14:18:34.117910</td>\n      <td>2022-04-24</td>\n      <td>2022</td>\n      <td>4</td>\n      <td>24</td>\n      <td>14</td>\n      <td>18</td>\n      <td>34</td>\n    </tr>\n  </tbody>\n</table>\n</div>"
     },
     "execution_count": 71,
     "metadata": {},
     "output_type": "execute_result"
    }
   ],
   "source": [
    "import datetime\n",
    "import pandas as pd\n",
    "\n",
    "a = datetime.datetime.now()\n",
    "tmp=pd.DataFrame({\n",
    "   '姓名':['A', 'B', 'C']\n",
    "})\n",
    "\n",
    "# 不同时间类型\n",
    "tmp['时间']=a\n",
    "# print(tmp)\n",
    "tmp['年月日']=a.date()\n",
    "tmp['年']=a.year\n",
    "tmp['月']=a.month\n",
    "tmp['日']=a.day\n",
    "tmp['小时']=a.hour\n",
    "tmp['分钟']=a.minute\n",
    "tmp['秒']=a.second\n",
    "\n",
    "tmp"
   ]
  },
  {
   "cell_type": "code",
   "execution_count": 74,
   "outputs": [
    {
     "data": {
      "text/plain": "姓名                 object\n时间         datetime64[ns]\n时间_str             object\nstr_时间     datetime64[ns]\nstr_时间2    datetime64[ns]\n时间_时间戳            float64\n时间戳_时间     datetime64[ns]\ndtype: object"
     },
     "execution_count": 74,
     "metadata": {},
     "output_type": "execute_result"
    }
   ],
   "source": [
    "# 时间格式，字符串，时间，时间戳之间的相互转换\n",
    "\n",
    "tmp=pd.DataFrame({\n",
    "   '姓名':['A', 'B', 'C']\n",
    "})\n",
    "\n",
    "# 不同时间类型\n",
    "tmp['时间']=a\n",
    "# 查看时间类型\n",
    "# tmp.dtypes\n",
    "# 时间转换为字符串\n",
    "tmp['时间_str']=tmp['时间'].apply(lambda x: x.strftime('%Y-%m-%d %H:%M:%S'))\n",
    "# 字符串转换为时间\n",
    "tmp['str_时间']=tmp['时间_str'].apply(lambda x: datetime.datetime.strptime(x, '%Y-%m-%d %H:%M:%S'))\n",
    "# 字符串转换为时间\n",
    "tmp['str_时间2']=pd.to_datetime(tmp['时间_str'])\n",
    "# 时间转换为时间戳\n",
    "tmp['时间_时间戳']=tmp['时间'].apply(lambda x: x.timestamp())\n",
    "# 时间戳转换为时间\n",
    "tmp['时间戳_时间'] = tmp['时间_时间戳'].apply(lambda x: datetime.datetime.fromtimestamp(x))\n",
    "tmp\n",
    "\n",
    "tmp.dtypes"
   ],
   "metadata": {
    "collapsed": false,
    "pycharm": {
     "name": "#%%\n"
    }
   }
  },
  {
   "cell_type": "code",
   "execution_count": 77,
   "outputs": [
    {
     "data": {
      "text/plain": "  姓名                         时间                      时间+1天  \\\n0  A 2022-04-24 14:18:34.117910 2022-04-25 14:18:34.117910   \n1  B 2022-04-24 14:18:34.117910 2022-04-25 14:18:34.117910   \n2  C 2022-04-24 14:18:34.117910 2022-04-25 14:18:34.117910   \n\n                       时间-1天                     时间-1小时             时间差  \\\n0 2022-04-23 14:18:34.117910 2022-04-24 01:18:34.117910 1 days 13:00:00   \n1 2022-04-23 14:18:34.117910 2022-04-24 01:18:34.117910 1 days 13:00:00   \n2 2022-04-23 14:18:34.117910 2022-04-24 01:18:34.117910 1 days 13:00:00   \n\n      时间差_天  时间差_小时  时间差_天整数3  \n0  1.541667    37.0         2  \n1  1.541667    37.0         2  \n2  1.541667    37.0         2  ",
      "text/html": "<div>\n<style scoped>\n    .dataframe tbody tr th:only-of-type {\n        vertical-align: middle;\n    }\n\n    .dataframe tbody tr th {\n        vertical-align: top;\n    }\n\n    .dataframe thead th {\n        text-align: right;\n    }\n</style>\n<table border=\"1\" class=\"dataframe\">\n  <thead>\n    <tr style=\"text-align: right;\">\n      <th></th>\n      <th>姓名</th>\n      <th>时间</th>\n      <th>时间+1天</th>\n      <th>时间-1天</th>\n      <th>时间-1小时</th>\n      <th>时间差</th>\n      <th>时间差_天</th>\n      <th>时间差_小时</th>\n      <th>时间差_天整数3</th>\n    </tr>\n  </thead>\n  <tbody>\n    <tr>\n      <th>0</th>\n      <td>A</td>\n      <td>2022-04-24 14:18:34.117910</td>\n      <td>2022-04-25 14:18:34.117910</td>\n      <td>2022-04-23 14:18:34.117910</td>\n      <td>2022-04-24 01:18:34.117910</td>\n      <td>1 days 13:00:00</td>\n      <td>1.541667</td>\n      <td>37.0</td>\n      <td>2</td>\n    </tr>\n    <tr>\n      <th>1</th>\n      <td>B</td>\n      <td>2022-04-24 14:18:34.117910</td>\n      <td>2022-04-25 14:18:34.117910</td>\n      <td>2022-04-23 14:18:34.117910</td>\n      <td>2022-04-24 01:18:34.117910</td>\n      <td>1 days 13:00:00</td>\n      <td>1.541667</td>\n      <td>37.0</td>\n      <td>2</td>\n    </tr>\n    <tr>\n      <th>2</th>\n      <td>C</td>\n      <td>2022-04-24 14:18:34.117910</td>\n      <td>2022-04-25 14:18:34.117910</td>\n      <td>2022-04-23 14:18:34.117910</td>\n      <td>2022-04-24 01:18:34.117910</td>\n      <td>1 days 13:00:00</td>\n      <td>1.541667</td>\n      <td>37.0</td>\n      <td>2</td>\n    </tr>\n  </tbody>\n</table>\n</div>"
     },
     "execution_count": 77,
     "metadata": {},
     "output_type": "execute_result"
    }
   ],
   "source": [
    "# 时间相加减\n",
    "import numpy as np\n",
    "\n",
    "tmp=pd.DataFrame({\n",
    "   '姓名':['A', 'B', 'C']\n",
    "})\n",
    "\n",
    "# 不同时间类型\n",
    "tmp['时间']=a\n",
    "# 时间加1天\n",
    "tmp['时间+1天']=tmp['时间']+datetime.timedelta(days=1)\n",
    "# 时间加1个星期\n",
    "# tmp['时间+1周']=tmp['时间']+datetime.timedelta(weeks=1)\n",
    "# 时间减1天\n",
    "tmp['时间-1天']=tmp['时间']-datetime.timedelta(days=1)\n",
    "# 时间件分钟\n",
    "tmp['时间-1小时']=tmp['时间']-datetime.timedelta(hours=13)\n",
    "# 两个时间相减\n",
    "tmp['时间差']=tmp['时间+1天']-tmp['时间-1小时']\n",
    "# 转换为天\n",
    "tmp['时间差_天'] = tmp['时间差'].map(lambda x: x / np.timedelta64(1, 'D'))\n",
    "# 转换为小时\n",
    "tmp['时间差_小时'] = tmp['时间差'].map(lambda x: x / np.timedelta64(1, 'h'))\n",
    "# 转换为整数\n",
    "# tmp['时间差_天整数'] =tmp['时间差_天'] .astype('int')\n",
    "# 保留多少位小数\n",
    "# tmp['时间差_天整数2']=tmp['时间差_天'].map(lambda x:format(x,'.2'))\n",
    "# 四舍五入转换为整数\n",
    "tmp['时间差_天整数3']=tmp['时间差_天'].astype(float).round().astype(int)\n",
    "\n",
    "tmp"
   ],
   "metadata": {
    "collapsed": false,
    "pycharm": {
     "name": "#%%\n"
    }
   }
  }
 ],
 "metadata": {
  "kernelspec": {
   "name": "conda-env-Anaconda3-py",
   "language": "python",
   "display_name": "Python [conda env:Anaconda3]"
  },
  "language_info": {
   "codemirror_mode": {
    "name": "ipython",
    "version": 2
   },
   "file_extension": ".py",
   "mimetype": "text/x-python",
   "name": "python",
   "nbconvert_exporter": "python",
   "pygments_lexer": "ipython2",
   "version": "2.7.6"
  }
 },
 "nbformat": 4,
 "nbformat_minor": 0
}